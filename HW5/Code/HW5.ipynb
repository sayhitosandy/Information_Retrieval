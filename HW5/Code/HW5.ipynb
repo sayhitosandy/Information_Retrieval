{
 "cells": [
  {
   "cell_type": "code",
   "execution_count": 1,
   "metadata": {
    "collapsed": true
   },
   "outputs": [],
   "source": [
    "import scipy.io\n",
    "import matplotlib.pyplot as plt\n",
    "import os\n",
    "import json\n",
    "import queue"
   ]
  },
  {
   "cell_type": "code",
   "execution_count": 2,
   "metadata": {
    "collapsed": false
   },
   "outputs": [],
   "source": [
    "a = scipy.io.mmread('Networks/socfb-Haverford76.mtx')"
   ]
  },
  {
   "cell_type": "code",
   "execution_count": 3,
   "metadata": {
    "collapsed": false
   },
   "outputs": [],
   "source": [
    "b = a.toarray()\n",
    "# print(b.shape)"
   ]
  },
  {
   "cell_type": "code",
   "execution_count": 4,
   "metadata": {
    "collapsed": false
   },
   "outputs": [],
   "source": [
    "nodes = set()\n",
    "adjlist = {}\n",
    "\n",
    "for i in range(b.shape[0]):\n",
    "    for j in range(b.shape[1]):\n",
    "        if (b[i][j] == 1):\n",
    "            nodes.add(i)\n",
    "nodes = list(nodes)\n",
    "\n",
    "for i in nodes:\n",
    "    if i not in adjlist:\n",
    "        adjlist[i] = []\n",
    "        \n",
    "for i in range(b.shape[0]):\n",
    "    for j in range(b.shape[1]):\n",
    "        if (b[i][j] == 1):\n",
    "            adjlist[i].append(j)\n",
    "\n",
    "for i in adjlist:\n",
    "    adjlist[i] = sorted(adjlist[i])"
   ]
  },
  {
   "cell_type": "code",
   "execution_count": 5,
   "metadata": {
    "collapsed": false
   },
   "outputs": [],
   "source": [
    "# print(len(nodes))"
   ]
  },
  {
   "cell_type": "code",
   "execution_count": 6,
   "metadata": {
    "collapsed": false
   },
   "outputs": [],
   "source": [
    "# print(adjlist[0])"
   ]
  },
  {
   "cell_type": "code",
   "execution_count": 7,
   "metadata": {
    "collapsed": false
   },
   "outputs": [],
   "source": [
    "# Degree distribution\n",
    "degree = {}\n",
    "for i in nodes:\n",
    "    if i not in degree:\n",
    "        degree[i] = 0\n",
    "        \n",
    "for i in range(b.shape[0]):\n",
    "    for j in range(b.shape[1]):\n",
    "        if (b[i][j] == 1):\n",
    "            degree[i] += 1"
   ]
  },
  {
   "cell_type": "code",
   "execution_count": 8,
   "metadata": {
    "collapsed": false
   },
   "outputs": [],
   "source": [
    "maxx = max(degree.values())"
   ]
  },
  {
   "cell_type": "code",
   "execution_count": 9,
   "metadata": {
    "collapsed": false
   },
   "outputs": [],
   "source": [
    "deg_dist = {}\n",
    "for i in range(0, maxx+1):\n",
    "    if (i not in deg_dist):\n",
    "        deg_dist[i] = 0\n",
    "        \n",
    "for i in degree:\n",
    "    deg_dist[degree[i]] += 1\n",
    "    \n",
    "for i in deg_dist:\n",
    "    deg_dist[i] = deg_dist[i]/len(nodes)\n",
    "\n",
    "fp = open(os.path.join(os.getcwd(), r'Degree_Distribution.json'), 'w+')\n",
    "json.dump(deg_dist, fp, sort_keys=True)\n",
    "fp.close()"
   ]
  },
  {
   "cell_type": "code",
   "execution_count": 10,
   "metadata": {
    "collapsed": false
   },
   "outputs": [],
   "source": [
    "x = [i for i in deg_dist]\n",
    "y = [deg_dist[i] for i in deg_dist]\n",
    "plt.plot(x,y,'b-',x,y,'r.')\n",
    "plt.xlabel('Degree k')\n",
    "plt.ylabel('P(k) = nk/n')\n",
    "plt.title('Degree Distribution')\n",
    "plt.grid(True)\n",
    "plt.savefig('Degree_Distribution.png')\n",
    "plt.clf()"
   ]
  },
  {
   "cell_type": "code",
   "execution_count": 11,
   "metadata": {
    "collapsed": false
   },
   "outputs": [],
   "source": [
    "# Clustering Coefficient\n",
    "clus_coeff = {}\n",
    "\n",
    "for i in nodes:\n",
    "    nv = 0\n",
    "    ngbr = adjlist[i]\n",
    "    for j in range(0, len(ngbr)-1):\n",
    "        for k in range(j+1, len(ngbr)):\n",
    "            if (ngbr[k] in adjlist[ngbr[j]]):\n",
    "                nv+=1\n",
    "    if (degree[i] > 1):\n",
    "        cc = (2*nv)/(degree[i] * (degree[i] - 1))\n",
    "        clus_coeff[i] = cc\n",
    "    else:\n",
    "        clus_coeff[i] = 0"
   ]
  },
  {
   "cell_type": "code",
   "execution_count": 12,
   "metadata": {
    "collapsed": false
   },
   "outputs": [],
   "source": [
    "fp = open(os.path.join(os.getcwd(), r'Clustering Coeff.json'), 'w+')\n",
    "json.dump(clus_coeff, fp, sort_keys=True)\n",
    "fp.close()"
   ]
  },
  {
   "cell_type": "code",
   "execution_count": 13,
   "metadata": {
    "collapsed": true
   },
   "outputs": [],
   "source": [
    "x = [i for i in clus_coeff]\n",
    "y = [clus_coeff[i] for i in clus_coeff]\n",
    "plt.plot(x,y,'b-',x,y,'r.')\n",
    "plt.xlabel('Nodes')\n",
    "plt.ylabel('Clustering Coefficient')\n",
    "plt.title('Clustering Coefficient Distribution')\n",
    "plt.grid(True)\n",
    "plt.savefig('Clustering_Coefficient.png')\n",
    "plt.clf()"
   ]
  },
  {
   "cell_type": "code",
   "execution_count": 14,
   "metadata": {
    "collapsed": false
   },
   "outputs": [],
   "source": [
    "# Closeness Centrality"
   ]
  },
  {
   "cell_type": "code",
   "execution_count": 15,
   "metadata": {
    "collapsed": true
   },
   "outputs": [],
   "source": [
    "def closeness_centrality(start): #Basic BFS\n",
    "    dist = {}\n",
    "    for i in nodes:\n",
    "        if i not in dist:\n",
    "            dist[i] = 999999\n",
    "\n",
    "    dist[start] = 0\n",
    "    q = queue.Queue()\n",
    "    q.put(start)\n",
    "    \n",
    "    while (not q.empty()):\n",
    "\n",
    "        n = q.get()\n",
    "        ngbrs = adjlist[n]\n",
    "        \n",
    "        for ngbr in ngbrs:\n",
    "            if (dist[n] + 1 < dist[ngbr]):\n",
    "                dist[ngbr] = dist[n] + 1\n",
    "                q.put(ngbr)\n",
    "\n",
    "    s = 0\n",
    "    for i in dist.values():\n",
    "        s += i\n",
    "    return (s/len(dist))"
   ]
  },
  {
   "cell_type": "code",
   "execution_count": 16,
   "metadata": {
    "collapsed": false
   },
   "outputs": [],
   "source": [
    "closeness_cent = {}\n",
    "for i in nodes:\n",
    "    if i not in closeness_cent:\n",
    "        closeness_cent[i] = 0\n",
    "\n",
    "for i in nodes:\n",
    "    closeness_cent[i] = closeness_centrality(i)\n",
    "    \n",
    "fp = open(os.path.join(os.getcwd(), r'Closeness Centrality.json'), 'w+')\n",
    "json.dump(closeness_cent, fp, sort_keys=True)\n",
    "fp.close()"
   ]
  },
  {
   "cell_type": "code",
   "execution_count": 17,
   "metadata": {
    "collapsed": true
   },
   "outputs": [],
   "source": [
    "x = [i for i in closeness_cent]\n",
    "y = [closeness_cent[i] for i in closeness_cent]\n",
    "plt.plot(x,y,'b-',x,y,'r.')\n",
    "plt.xlabel('Nodes')\n",
    "plt.ylabel('Closeness Centrality')\n",
    "plt.title('Closeness Centrality Distribution')\n",
    "plt.grid(True)\n",
    "plt.savefig('Closeness_Centrality.png')\n",
    "plt.clf()"
   ]
  },
  {
   "cell_type": "code",
   "execution_count": 18,
   "metadata": {
    "collapsed": false
   },
   "outputs": [],
   "source": [
    "# Betweeness Centrality (Brandes Algo) ... http://www.cl.cam.ac.uk/teaching/1617/MLRD/handbook/brandes.pdf\n",
    "\n",
    "def betweeness_centrality():\n",
    "    bet_cent = {}\n",
    "    for i in nodes:\n",
    "        if i not in bet_cent:\n",
    "            bet_cent[i] = 0\n",
    "\n",
    "    for start in nodes:\n",
    "        stack = []\n",
    "\n",
    "        pred = {}\n",
    "        for i in nodes:\n",
    "            if i not in pred:\n",
    "                pred[i] = []\n",
    "\n",
    "        paths = {}\n",
    "        for i in nodes:\n",
    "            if i not in paths:\n",
    "                paths[i] = 0\n",
    "\n",
    "        dist = {}\n",
    "        for i in nodes:\n",
    "            if i not in dist:\n",
    "                dist[i] = -1\n",
    "\n",
    "        paths[start] = 1\n",
    "        dist[start] = 0\n",
    "\n",
    "        q = queue.Queue()\n",
    "        q.put(start)\n",
    "        distance=0\n",
    "\n",
    "        while (not q.empty()):\n",
    "            n = q.get()\n",
    "            stack.append(n)\n",
    "            ngbrs = adjlist[n]\n",
    "\n",
    "            for ngbr in ngbrs:\n",
    "                if dist[ngbr] < 0:\n",
    "                \tnlen = dist[ngbr]\n",
    "                \tdist[ngbr] = dist[n] + 1\n",
    "                \tdistance += nlen\n",
    "                \tq.put(ngbr)\n",
    "\n",
    "                if dist[ngbr] == dist[n] + 1:\n",
    "                    pred[ngbr].append(n)\n",
    "                    paths[ngbr] += paths[n]\n",
    "\n",
    "        delta = {}\n",
    "        for i in nodes:\n",
    "            if i not in delta:\n",
    "                delta[i] = 0\n",
    "\n",
    "        while stack:\n",
    "            node = stack.pop()\n",
    "\n",
    "            parents = pred[node]\n",
    "            for parent in parents:\n",
    "                delta[parent] += ((paths[parent]/paths[node]) * (1 + delta[node]))\n",
    "\n",
    "                if node != start:\n",
    "                    bet_cent[node] += delta[node]\n",
    "\n",
    "    return bet_cent\n"
   ]
  },
  {
   "cell_type": "code",
   "execution_count": 19,
   "metadata": {
    "collapsed": false
   },
   "outputs": [],
   "source": [
    "between_cent = betweeness_centrality()\n",
    "\n",
    "max_bc = max(between_cent.values())\n",
    "min_bc = min(between_cent.values())\n",
    "\n",
    "for i in between_cent:\n",
    "    between_cent[i] = (between_cent[i] - min_bc)/(max_bc - min_bc) #normalize (Wikipedia)\n",
    "\n",
    "fp = open(os.path.join(os.getcwd(), r'Between Centrality.json'), 'w+')\n",
    "json.dump(between_cent, fp, sort_keys=True)\n",
    "fp.close()"
   ]
  },
  {
   "cell_type": "code",
   "execution_count": 20,
   "metadata": {
    "collapsed": false
   },
   "outputs": [],
   "source": [
    "x = [i for i in between_cent]\n",
    "y = [between_cent[i] for i in between_cent]\n",
    "plt.plot(x,y,'b-',x,y,'r.')\n",
    "plt.xlabel('Nodes')\n",
    "plt.ylabel('Betweenness Centrality')\n",
    "plt.title('Betweenness Centrality Distribution')\n",
    "plt.grid(True)\n",
    "plt.savefig('Betweenness_Centrality.png')\n",
    "plt.clf()"
   ]
  }
 ],
 "metadata": {
  "anaconda-cloud": {},
  "kernelspec": {
   "display_name": "Python [default]",
   "language": "python",
   "name": "python3"
  },
  "language_info": {
   "codemirror_mode": {
    "name": "ipython",
    "version": 3
   },
   "file_extension": ".py",
   "mimetype": "text/x-python",
   "name": "python",
   "nbconvert_exporter": "python",
   "pygments_lexer": "ipython3",
   "version": "3.5.2"
  }
 },
 "nbformat": 4,
 "nbformat_minor": 1
}
